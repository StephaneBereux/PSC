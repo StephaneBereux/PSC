{
 "cells": [
  {
   "cell_type": "code",
   "execution_count": 1,
   "metadata": {},
   "outputs": [
    {
     "name": "stderr",
     "output_type": "stream",
     "text": [
      "/home/stephane/anaconda3/lib/python3.7/site-packages/xenaPython/__init__.py:110: FutureWarning: Possible nested set at position 7\n",
      "  re.sub(r\"^[^[]+[[]([^]]*)[]].*$\", r\"\\1\", query, flags=re.DOTALL))\n"
     ]
    }
   ],
   "source": [
    "import numpy as np\n",
    "import pandas as pd\n",
    "import seaborn as sns #for plotting\n",
    "import csv as csv\n",
    "\n",
    "#for gene names converting\n",
    "import mygene as mg\n",
    "\n",
    "#for finding duplicates\n",
    "import collections\n",
    "\n",
    "#for data fetching\n",
    "import xenaPython as xena\n",
    "\n",
    "# for survival analysis\n",
    "import lifelines\n",
    "from lifelines import CoxPHFitter\n",
    "from lifelines import KaplanMeierFitter"
   ]
  },
  {
   "cell_type": "markdown",
   "metadata": {},
   "source": [
    "# Fetch the data on TCGA (using XenaPython)"
   ]
  },
  {
   "cell_type": "code",
   "execution_count": 2,
   "metadata": {},
   "outputs": [
    {
     "name": "stdout",
     "output_type": "stream",
     "text": [
      "Help on package mygene:\n",
      "\n",
      "NAME\n",
      "    mygene - Python Client for MyGene.Info services\n",
      "\n",
      "PACKAGE CONTENTS\n",
      "\n",
      "\n",
      "CLASSES\n",
      "    biothings_client.MyGeneInfo(biothings_client.base.BiothingClient, biothings_client.mixins.gene.MyGeneClientMixin)\n",
      "        MyGeneInfo\n",
      "    \n",
      "    class MyGeneInfo(biothings_client.MyGeneInfo)\n",
      "     |  MyGeneInfo(url=None)\n",
      "     |  \n",
      "     |  This is the client for a biothing web service.\n",
      "     |  \n",
      "     |  Method resolution order:\n",
      "     |      MyGeneInfo\n",
      "     |      biothings_client.MyGeneInfo\n",
      "     |      biothings_client.base.BiothingClient\n",
      "     |      biothings_client.mixins.gene.MyGeneClientMixin\n",
      "     |      builtins.object\n",
      "     |  \n",
      "     |  Methods inherited from biothings_client.MyGeneInfo:\n",
      "     |  \n",
      "     |  clear_cache(self)\n",
      "     |      Clear the globally installed cache.\n",
      "     |  \n",
      "     |  get_fields(self, search_term=None, verbose=True)\n",
      "     |      Return all available fields can be return from MyGene.info services.\n",
      "     |      \n",
      "     |      This is a wrapper for http://mygene.info/metadata/fields\n",
      "     |      \n",
      "     |      :param search_term: an optional string to search (case insensitive) for matching field names.\n",
      "     |                          If not provided, all available fields will be returned.\n",
      "     |      \n",
      "     |      Example:\n",
      "     |      \n",
      "     |      >>> mv.get_fields()\n",
      "     |      >>> mv.get_fields(\"uniprot\")\n",
      "     |      >>> mv.get_fields(\"refseq\")\n",
      "     |      >>> mv.get_fields(\"kegg\")\n",
      "     |      \n",
      "     |      .. Hint:: This is useful to find out the field names you need to pass to **fields** parameter of other methods.\n",
      "     |  \n",
      "     |  getgene(self, _id, fields=None, **kwargs)\n",
      "     |      Return the gene object for the give geneid.\n",
      "     |      This is a wrapper for GET query of \"/gene/<geneid>\" service.\n",
      "     |      \n",
      "     |      :param geneid: entrez/ensembl gene id, entrez gene id can be either\n",
      "     |                     a string or integer\n",
      "     |      :param fields: fields to return, a list or a comma-separated string.\n",
      "     |                      If **fields=\"all\"**, all available fields are returned\n",
      "     |      :param species: optionally, you can pass comma-separated species names\n",
      "     |                      or taxonomy ids\n",
      "     |      :param email: optionally, pass your email to help us to track usage\n",
      "     |      :param filter: alias for **fields** parameter\n",
      "     |      \n",
      "     |      :return: a gene object as a dictionary, or None if geneid is not valid.\n",
      "     |      \n",
      "     |      :ref: http://docs.mygene.info/en/latest/doc/data.html for available\n",
      "     |           fields, extra *kwargs* and more.\n",
      "     |      \n",
      "     |      Example:\n",
      "     |      \n",
      "     |      >>> mg.getgene(1017, email='abc@example.com')\n",
      "     |      >>> mg.getgene('1017', fields='symbol,name,entrezgene,refseq')\n",
      "     |      >>> mg.getgene('1017', fields='symbol,name,entrezgene,refseq.rna')\n",
      "     |      >>> mg.getgene('1017', fields=['symbol', 'name', 'pathway.kegg'])\n",
      "     |      >>> mg.getgene('ENSG00000123374', fields='all')\n",
      "     |      \n",
      "     |      .. Hint:: The supported field names passed to **fields** parameter can be found from\n",
      "     |                any full gene object (when **fields=\"all\"**). Note that field name supports dot\n",
      "     |                notation for nested data structure as well, e.g. you can pass \"refseq.rna\" or\n",
      "     |                \"pathway.kegg\".\n",
      "     |  \n",
      "     |  getgenes(self, ids, fields=None, **kwargs)\n",
      "     |      Return the list of gene objects for the given list of geneids.\n",
      "     |      This is a wrapper for POST query of \"/gene\" service.\n",
      "     |      \n",
      "     |      :param geneids: a list/tuple/iterable or comma-separated entrez/ensembl gene ids\n",
      "     |      :param fields: fields to return, a list or a comma-separated string.\n",
      "     |                      If **fields=\"all\"**, all available fields are returned\n",
      "     |      :param species: optionally, you can pass comma-separated species names\n",
      "     |                      or taxonomy ids\n",
      "     |      :param email: optionally, pass your email to help us to track usage\n",
      "     |      :param filter: alias for fields\n",
      "     |      :param as_dataframe: if True, return object as DataFrame (requires Pandas).\n",
      "     |      :param df_index: if True (default), index returned DataFrame by 'query',\n",
      "     |                       otherwise, index by number. Only applicable if as_dataframe=True.\n",
      "     |      \n",
      "     |      :return: a list of gene objects or a pandas DataFrame object (when **as_dataframe** is True)\n",
      "     |      \n",
      "     |      :ref: http://mygene.info/doc/annotation_service.html for available\n",
      "     |              fields, extra *kwargs* and more.\n",
      "     |      \n",
      "     |      Example:\n",
      "     |      \n",
      "     |      >>> mg.getgenes([1017, '1018','ENSG00000148795'], email='abc@example.com')\n",
      "     |      >>> mg.getgenes([1017, '1018','ENSG00000148795'], fields=\"entrezgene,uniprot\")\n",
      "     |      >>> mg.getgenes([1017, '1018','ENSG00000148795'], fields=\"all\")\n",
      "     |      >>> mg.getgenes([1017, '1018','ENSG00000148795'], as_dataframe=True)\n",
      "     |      \n",
      "     |      .. Hint:: A large list of more than 1000 input ids will be sent to the backend\n",
      "     |                web service in batches (1000 at a time), and then the results will be\n",
      "     |                concatenated together. So, from the user-end, it's exactly the same as\n",
      "     |                passing a shorter list. You don't need to worry about saturating our\n",
      "     |                backend servers.\n",
      "     |  \n",
      "     |  metadata(self, verbose=True, **kwargs)\n",
      "     |      Return a dictionary of MyGene.info metadata.\n",
      "     |      \n",
      "     |      Example:\n",
      "     |      \n",
      "     |      >>> metadata = mg.metadata\n",
      "     |  \n",
      "     |  query(self, q, **kwargs)\n",
      "     |      Return  the query result.\n",
      "     |      This is a wrapper for GET query of \"/query?q=<query>\" service.\n",
      "     |      \n",
      "     |      :param q: a query string, detailed query syntax `here <http://mygene.info/doc/query_service.html#query-syntax>`_\n",
      "     |      :param fields: fields to return, a list or a comma-separated string.\n",
      "     |                      If **fields=\"all\"**, all available fields are returned\n",
      "     |      :param species: optionally, you can pass comma-separated species names\n",
      "     |                      or taxonomy ids. Default: human,mouse,rat.\n",
      "     |      :param size:   the maximum number of results to return (with a cap\n",
      "     |                     of 1000 at the moment). Default: 10.\n",
      "     |      :param skip:   the number of results to skip. Default: 0.\n",
      "     |      :param sort:   Prefix with \"-\" for descending order, otherwise in ascending order.\n",
      "     |                     Default: sort by matching scores in decending order.\n",
      "     |      :param entrezonly: if True, return only matching entrez genes, otherwise, including matching\n",
      "     |                         Ensemble-only genes (those have no matching entrez genes).\n",
      "     |      :param email: optionally, pass your email to help us to track usage\n",
      "     |      :param as_dataframe: if True, return object as DataFrame (requires Pandas).\n",
      "     |      :param df_index: if True (default), index returned DataFrame by 'query',\n",
      "     |                       otherwise, index by number. Only applicable if as_dataframe=True.\n",
      "     |      :param fetch_all: if True, return a generator to all query results (unsorted).  This can provide a very fast return of\n",
      "     |                       all hits from a large query.\n",
      "     |                       Server requests are done in blocks of 1000 and yielded individually.  Each 1000 block of results\n",
      "     |                       must be yielded within 1 minute, otherwise the request will expire on the server side.\n",
      "     |      \n",
      "     |      :return: a dictionary with returned gene hits or a pandas DataFrame object (when **as_dataframe** is True)\n",
      "     |      \n",
      "     |      :ref: http://mygene.info/doc/query_service.html for available\n",
      "     |            fields, extra *kwargs* and more.\n",
      "     |      \n",
      "     |      Example:\n",
      "     |      \n",
      "     |      >>> mg.query('cdk2')\n",
      "     |      >>> mg.query('reporter:1000_at')\n",
      "     |      >>> mg.query('symbol:cdk2', species='human')\n",
      "     |      >>> mg.query('symbol:cdk*', species=10090, size=5, as_dataframe=True)\n",
      "     |      >>> mg.query('q=chrX:151073054-151383976', species=9606)\n",
      "     |  \n",
      "     |  querymany(self, qterms, scopes=None, **kwargs)\n",
      "     |      Return the batch query result.\n",
      "     |      This is a wrapper for POST query of \"/query\" service.\n",
      "     |      \n",
      "     |      :param qterms: a list/tuple/iterable of query terms, or a string of comma-separated query terms.\n",
      "     |      :param scopes:  type of types of identifiers, either a list or a comma-separated fields to specify type of\n",
      "     |                     input qterms, e.g. \"entrezgene\", \"entrezgene,symbol\", [\"ensemblgene\", \"symbol\"].\n",
      "     |                     Refer to `official MyGene.info docs <http://mygene.info/doc/query_service.html#available_fields>`_ for full list\n",
      "     |                     of fields.\n",
      "     |      :param fields: fields to return, a list or a comma-separated string.\n",
      "     |                      If **fields=\"all\"**, all available fields are returned\n",
      "     |      :param species: optionally, you can pass comma-separated species names\n",
      "     |                        or taxonomy ids. Default: human,mouse,rat.\n",
      "     |      :param entrezonly:  if True, return only matching entrez genes, otherwise, including matching\n",
      "     |                           Ensemble-only genes (those have no matching entrez genes).\n",
      "     |      \n",
      "     |      :param returnall:   if True, return a dict of all related data, including dup. and missing qterms\n",
      "     |      :param verbose:     if True (default), print out infomation about dup and missing qterms\n",
      "     |      :param email: optionally, pass your email to help us to track usage\n",
      "     |      :param as_dataframe: if True, return object as DataFrame (requires Pandas).\n",
      "     |      :param df_index: if True (default), index returned DataFrame by 'query',\n",
      "     |                       otherwise, index by number. Only applicable if as_dataframe=True.\n",
      "     |      \n",
      "     |      :return: a list of gene objects or a pandas DataFrame object (when **as_dataframe** is True)\n",
      "     |      \n",
      "     |      :ref: http://mygene.info/doc/query_service.html for available\n",
      "     |            fields, extra *kwargs* and more.\n",
      "     |      \n",
      "     |      Example:\n",
      "     |      \n",
      "     |      >>> mg.querymany(['DDX26B', 'CCDC83'], scopes='symbol', species=9606)\n",
      "     |      >>> mg.querymany(['1255_g_at', '1294_at', '1316_at', '1320_at'], scopes='reporter')\n",
      "     |      >>> mg.querymany(['NM_003466', 'CDK2', 695, '1320_at', 'Q08345'],\n",
      "     |      ...              scopes='refseq,symbol,entrezgene,reporter,uniprot', species='human')\n",
      "     |      >>> mg.querymany(['1255_g_at', '1294_at', '1316_at', '1320_at'], scopes='reporter',\n",
      "     |      ...              fields='ensembl.gene,symbol', as_dataframe=True)\n",
      "     |      \n",
      "     |      .. Hint:: :py:meth:`querymany` is perfect for doing id mappings.\n",
      "     |      \n",
      "     |      .. Hint:: Just like :py:meth:`getgenes`, passing a large list of ids (>1000) to :py:meth:`querymany` is perfectly fine.\n",
      "     |  \n",
      "     |  set_caching(self, cache_db=None, verbose=True, **kwargs)\n",
      "     |      Installs a local cache for all requests.\n",
      "     |      \n",
      "     |      **cache_db** is the path to the local sqlite cache database.\n",
      "     |  \n",
      "     |  stop_caching(self)\n",
      "     |      Stop caching.\n",
      "     |  \n",
      "     |  ----------------------------------------------------------------------\n",
      "     |  Methods inherited from biothings_client.base.BiothingClient:\n",
      "     |  \n",
      "     |  __init__(self, url=None)\n",
      "     |      Initialize self.  See help(type(self)) for accurate signature.\n",
      "     |  \n",
      "     |  ----------------------------------------------------------------------\n",
      "     |  Data descriptors inherited from biothings_client.base.BiothingClient:\n",
      "     |  \n",
      "     |  __dict__\n",
      "     |      dictionary for instance variables (if defined)\n",
      "     |  \n",
      "     |  __weakref__\n",
      "     |      list of weak references to the object (if defined)\n",
      "     |  \n",
      "     |  ----------------------------------------------------------------------\n",
      "     |  Methods inherited from biothings_client.mixins.gene.MyGeneClientMixin:\n",
      "     |  \n",
      "     |  findgenes(self, id_li, **kwargs)\n",
      "     |      .. deprecated:: 2.0.0\n",
      "     |      Use :py:meth:`querymany` instead. It's kept here as an alias of :py:meth:`querymany` method.\n",
      "\n",
      "VERSION\n",
      "    3.1.0\n",
      "\n",
      "FILE\n",
      "    /home/stephane/anaconda3/lib/python3.7/site-packages/mygene/__init__.py\n",
      "\n",
      "\n"
     ]
    }
   ],
   "source": [
    "help(mg)"
   ]
  },
  {
   "cell_type": "code",
   "execution_count": 3,
   "metadata": {},
   "outputs": [],
   "source": [
    "def get_codes(host, dataset, fields, data):\n",
    "    \"get codes for enumerations\"\n",
    "    codes = xena.field_codes(host, dataset, fields)\n",
    "    codes_idx = dict([(x['name'], x['code'].split('\\t')) for x in codes if x['code'] is not None])\n",
    "    for i in range(len(fields)):\n",
    "        if fields[i] in codes_idx:\n",
    "            data[i] = [None if v == 'NaN' else codes_idx[fields[i]][int(v)] for v in data[i]]\n",
    "    return data\n",
    "\n",
    "def get_fields(host, dataset, samples, fields):\n",
    "    \"get field values\"\n",
    "    data = xena.dataset_fetch(host, dataset, samples, fields)\n",
    "    return data\n",
    "\n",
    "def get_fields_and_codes(host, dataset, samples, fields):\n",
    "    \"get fields and resolve codes\"\n",
    "    return get_codes( host, dataset, fields, get_fields( host, dataset, samples, fields))"
   ]
  },
  {
   "cell_type": "markdown",
   "metadata": {},
   "source": [
    "### Gene expression data"
   ]
  },
  {
   "cell_type": "code",
   "execution_count": 4,
   "metadata": {},
   "outputs": [
    {
     "data": {
      "text/plain": [
       "<bound method _getannotations of <biothings_client.MyGeneInfo object at 0x7faf1e45a940>>"
      ]
     },
     "execution_count": 4,
     "metadata": {},
     "output_type": "execute_result"
    }
   ],
   "source": [
    "dico_genes = mg.get_client(\"gene\")\n",
    "dico_genes.getgenes\n"
   ]
  },
  {
   "cell_type": "code",
   "execution_count": 5,
   "metadata": {},
   "outputs": [
    {
     "name": "stdout",
     "output_type": "stream",
     "text": [
      "<class 'list'>\n",
      "[1.0, 2.0, 1.0, 2.0, 1.0, 2.0, 1.0, 2.0]\n"
     ]
    }
   ],
   "source": [
    "expression = np.array([])\n",
    "test = np.array([1,2])\n",
    "for i in range(4):\n",
    "    expression = np.concatenate([expression,test])\n",
    "expression = expression.tolist()\n",
    "print(type(expression))\n",
    "print(expression)"
   ]
  },
  {
   "cell_type": "code",
   "execution_count": 6,
   "metadata": {
    "scrolled": true
   },
   "outputs": [
    {
     "name": "stdout",
     "output_type": "stream",
     "text": [
      "querying 1-1000...done.\n",
      "querying 1001-2000...done.\n",
      "querying 2001-3000...done.\n",
      "querying 3001-4000...done.\n",
      "querying 4001-5000...done.\n",
      "querying 5001-6000...done.\n",
      "querying 6001-7000...done.\n",
      "querying 7001-8000...done.\n",
      "querying 8001-9000...done.\n",
      "querying 9001-10000...done.\n",
      "querying 10001-11000...done.\n",
      "querying 11001-12000...done.\n",
      "querying 12001-13000...done.\n",
      "querying 13001-14000...done.\n",
      "querying 14001-15000...done.\n",
      "querying 15001-16000...done.\n",
      "querying 16001-17000...done.\n",
      "querying 17001-18000...done.\n",
      "querying 18001-19000...done.\n",
      "querying 19001-20000...done.\n",
      "querying 20001-21000...done.\n",
      "querying 21001-22000...done.\n",
      "querying 22001-23000...done.\n",
      "querying 23001-24000...done.\n",
      "querying 24001-25000...done.\n",
      "querying 25001-26000...done.\n",
      "querying 26001-27000...done.\n",
      "querying 27001-28000...done.\n",
      "querying 28001-29000...done.\n",
      "querying 29001-30000...done.\n",
      "querying 30001-31000...done.\n",
      "querying 31001-32000...done.\n",
      "querying 32001-33000...done.\n",
      "querying 33001-34000...done.\n",
      "querying 34001-35000...done.\n",
      "querying 35001-36000...done.\n",
      "querying 36001-37000...done.\n",
      "querying 37001-38000...done.\n",
      "querying 38001-39000...done.\n",
      "querying 39001-40000...done.\n",
      "querying 40001-41000...done.\n",
      "querying 41001-42000...done.\n",
      "querying 42001-43000...done.\n",
      "querying 43001-44000...done.\n",
      "querying 44001-45000...done.\n",
      "querying 45001-46000...done.\n",
      "querying 46001-47000...done.\n",
      "querying 47001-48000...done.\n",
      "querying 48001-49000...done.\n",
      "querying 49001-50000...done.\n",
      "querying 50001-51000...done.\n",
      "querying 51001-52000...done.\n",
      "querying 52001-53000...done.\n",
      "querying 53001-54000...done.\n",
      "querying 54001-55000...done.\n",
      "querying 55001-56000...done.\n",
      "querying 56001-57000...done.\n",
      "querying 57001-58000...done.\n",
      "querying 58001-59000...done.\n",
      "querying 59001-60000...done.\n",
      "querying 60001-60483...done.\n",
      "len(genes_diff ) 55261\n",
      "len(genes_1)  56755\n",
      "0\n"
     ]
    }
   ],
   "source": [
    "hub = \"https://gdc.xenahubs.net\"\n",
    "dataset = \"TCGA-BRCA/Xena_Matrices/TCGA-BRCA.htseq_fpkm-uq.tsv\" #database url was found on the hub website\n",
    "samples = xena.dataset_samples (hub, dataset, None)\n",
    "##wave genes\n",
    "#genes =[\"NCKAP1\",\"CYFIP2\", \"NCKAP1L\", \"WASF2\", \"ABI3\", \"WASF3\", \"ABI1\", \"ABI2\", \"CYFIP1\", \"WASF1\", \"BRK1\"] #enter the genes of interest\n",
    "##Arp2-3 genes\n",
    "#genes = [\"ACTR2\", \"ACTR3\", \"ARPC1A\", \"ARPC2\", \"ARPC3\", \"ARPC4\", \"ARPC5\", \"ACTR3B\", \"ARPC1B\", \"ARPC5L\"]\n",
    "##Arpin\n",
    "#genes = [\"Arpin\"]\n",
    "## All genes available\n",
    "genes = xena.dataset_field(hub, dataset)[:-1]\n",
    "fields = [\"sampleID\"]\n",
    "\n",
    "for i in range(len(genes)):\n",
    "    genes[i] = genes[i].split(\".\")[0] #What is the meaning of the number after the point ?\n",
    "\n",
    "#Convert gene names into their symbol\n",
    "genes_1 = []\n",
    "dico_genes = mg.get_client(\"gene\").getgenes(genes,'symbol') #Enlever les chiffres après le point dans le ENSG : create duplicates\n",
    "genes_1 = [d.get('symbol') for d in dico_genes]\n",
    "genes_1 = [x for x in genes_1 if x is not None]\n",
    "\n",
    "#Eliminate the duplicates in the gene names\n",
    "genes_set = set()\n",
    "genes_diff = [x for x in genes_1 if x not in genes_set and not genes_set.add(x)]\n",
    "print('len(genes_diff )',len(genes_diff))\n",
    "print('len(genes_1) ',len(genes_1))\n",
    "\n",
    "######\n",
    "expressions_0 = np.array([])\n",
    "\n",
    "for i in range(1):\n",
    "    if i % 20 == 0:\n",
    "        print(i)\n",
    "    expressions_0 = np.append(expressions_0,np.array(xena.dataset_gene_probe_avg(hub, dataset, samples, genes_diff[min(i*100, len(genes_diff)) : min((i+1)*100, len(genes_diff))])))\n",
    "    #expressions_0.extend(xena.dataset_gene_probe_avg(hub, dataset, samples, genes_diff[min(i*100, len(genes_diff)) : min((i+1)*100, len(genes_diff))]))\n",
    "#expressions_0 = xena.dataset_gene_probe_avg(hub, dataset, samples, genes)\n",
    "\n",
    "expressions_1 = expressions_0.tolist()\n",
    "\n",
    "with open('expressions_1_partial', 'w') as myfile:\n",
    "    wr = csv.writer(myfile, quoting=csv.QUOTE_ALL)\n",
    "    wr.writerow(expressions_1)    \n",
    "    \n",
    "values = get_fields_and_codes(hub, dataset, samples, fields) # list of lists\n",
    "\n",
    "genes_dict_for_df = dict(zip(fields, values)) #dict where we add the gene expression and the sample ids\n",
    "\n",
    "with open('dict_partial.csv', 'w') as csv_file:\n",
    "    writer = csv.writer(csv_file)\n",
    "    for key, value in genes_dict_for_df.items():\n",
    "       writer.writerow([key, value])"
   ]
  },
  {
   "cell_type": "code",
   "execution_count": 7,
   "metadata": {},
   "outputs": [],
   "source": [
    "for dico in expressions_1:\n",
    "    if(dico[\"gene\"] != None):\n",
    "        label = \"expression\" + dico[\"gene\"]\n",
    "        scores = dico[\"scores\"][0] #Problem with the filfulling of the scores of expression_0 : it needs probably the usual names of the genes (like Arpin) instead of the scientific names (like ENSG0000000.03) \n",
    "        if(len(scores) > 0):\n",
    "            genes_dict_for_df[label] = scores"
   ]
  },
  {
   "cell_type": "markdown",
   "metadata": {},
   "source": [
    "### Survival data"
   ]
  },
  {
   "cell_type": "code",
   "execution_count": 8,
   "metadata": {},
   "outputs": [],
   "source": [
    "dataset = \"TCGA-BRCA/Xena_Matrices/TCGA-BRCA.survival.tsv\"\n",
    "fields = ['_TIME_TO_EVENT', \"_EVENT\", \"sampleID\"] #event is 1 if the patient has died or 0 if he was censored (lost...)\n",
    "#TODO\n",
    "# As in pancan, there are normal samples in tcga which should probably be removed. _sample_type will\n",
    "# identify normals. _study will identify tcga vs. gtex vs. target.\n",
    "values = get_fields_and_codes(hub, dataset, samples, fields) # list of lists\n",
    "survival_dict_for_df = dict(zip(fields, values)) # index by phenotype"
   ]
  },
  {
   "cell_type": "code",
   "execution_count": 9,
   "metadata": {},
   "outputs": [],
   "source": [
    "survival_dict_for_df[\"survival\"] = survival_dict_for_df.pop(\"_TIME_TO_EVENT\") \n",
    "survival_dict_for_df[\"event\"] = survival_dict_for_df.pop(\"_EVENT\")"
   ]
  },
  {
   "cell_type": "markdown",
   "metadata": {},
   "source": [
    "### Phenotype data"
   ]
  },
  {
   "cell_type": "code",
   "execution_count": 10,
   "metadata": {},
   "outputs": [],
   "source": [
    "dataset = \"TCGA-BRCA/Xena_Matrices/TCGA-BRCA.GDC_phenotype.tsv\"\n",
    "fields = ['sample_type.samples', \"sampleID\"] \n",
    "values = get_fields_and_codes(hub, dataset, samples, fields) # list of lists\n",
    "phenotype_dict_for_df = dict(zip(fields, values)) # index by phenotype"
   ]
  },
  {
   "cell_type": "code",
   "execution_count": 11,
   "metadata": {},
   "outputs": [],
   "source": [
    "phenotype_dict_for_df[\"sample_type\"] = phenotype_dict_for_df.pop('sample_type.samples')"
   ]
  },
  {
   "cell_type": "markdown",
   "metadata": {},
   "source": [
    "Note : I don't know if it's useful to remove the patients whose tumor is not a \"Primary Tumor\", like advised by Xena. The goal is to remove duplicates but I can't find duplicates"
   ]
  },
  {
   "cell_type": "markdown",
   "metadata": {},
   "source": [
    "### Merge data"
   ]
  },
  {
   "cell_type": "code",
   "execution_count": 12,
   "metadata": {},
   "outputs": [],
   "source": [
    "df_genes = pd.DataFrame(data=genes_dict_for_df)\n",
    "df_survival = pd.DataFrame(data=survival_dict_for_df)\n",
    "#df_phenotype = pd.DataFrame(data=phenotype_dict_for_df)\n",
    "\n",
    "df = pd.merge(df_genes, df_survival) # merge the survival and genes data according to sampleID\n",
    "#df = pd.merge(df, df_phenotype) #merge also the phenotype data \n",
    "df = df.convert_objects(convert_numeric=True)\n",
    "df = df[~pd.isna(df[\"survival\"])][~pd.isna(df[\"event\"])]\n",
    "#df = df[df[\"sample_type\"] == \"Primary Tumor\"] #keep only primary tumor to remove duplicate WARNING : check if name doesn't change if you use another dataset\n",
    "#df = df.drop(['sampleID','sample_type'], axis=1) #remove identifier for analysis\n",
    "\n",
    "df = df.drop('sampleID', axis=1) #remove identifier for analysis"
   ]
  },
  {
   "cell_type": "code",
   "execution_count": 13,
   "metadata": {},
   "outputs": [
    {
     "data": {
      "text/html": [
       "<div>\n",
       "<style scoped>\n",
       "    .dataframe tbody tr th:only-of-type {\n",
       "        vertical-align: middle;\n",
       "    }\n",
       "\n",
       "    .dataframe tbody tr th {\n",
       "        vertical-align: top;\n",
       "    }\n",
       "\n",
       "    .dataframe thead th {\n",
       "        text-align: right;\n",
       "    }\n",
       "</style>\n",
       "<table border=\"1\" class=\"dataframe\">\n",
       "  <thead>\n",
       "    <tr style=\"text-align: right;\">\n",
       "      <th></th>\n",
       "      <th>expressionTSPAN6</th>\n",
       "      <th>expressionTNMD</th>\n",
       "      <th>expressionDPM1</th>\n",
       "      <th>expressionSCYL3</th>\n",
       "      <th>expressionC1orf112</th>\n",
       "      <th>expressionFGR</th>\n",
       "      <th>expressionCFH</th>\n",
       "      <th>expressionFUCA2</th>\n",
       "      <th>expressionGCLC</th>\n",
       "      <th>expressionNFYA</th>\n",
       "      <th>...</th>\n",
       "      <th>expressionMSL3</th>\n",
       "      <th>expressionCREBBP</th>\n",
       "      <th>expressionMPO</th>\n",
       "      <th>expressionPON1</th>\n",
       "      <th>expressionGCFC2</th>\n",
       "      <th>expressionWDR54</th>\n",
       "      <th>expressionCROT</th>\n",
       "      <th>expressionABCB4</th>\n",
       "      <th>survival</th>\n",
       "      <th>event</th>\n",
       "    </tr>\n",
       "  </thead>\n",
       "  <tbody>\n",
       "    <tr>\n",
       "      <th>0</th>\n",
       "      <td>15.64</td>\n",
       "      <td>8.795</td>\n",
       "      <td>19.08</td>\n",
       "      <td>15.82</td>\n",
       "      <td>14.50</td>\n",
       "      <td>14.65</td>\n",
       "      <td>15.29</td>\n",
       "      <td>17.68</td>\n",
       "      <td>16.27</td>\n",
       "      <td>18.46</td>\n",
       "      <td>...</td>\n",
       "      <td>15.86</td>\n",
       "      <td>17.97</td>\n",
       "      <td>6.675</td>\n",
       "      <td>6.988</td>\n",
       "      <td>16.19</td>\n",
       "      <td>15.96</td>\n",
       "      <td>15.81</td>\n",
       "      <td>11.72</td>\n",
       "      <td>4047</td>\n",
       "      <td>0</td>\n",
       "    </tr>\n",
       "    <tr>\n",
       "      <th>1</th>\n",
       "      <td>15.67</td>\n",
       "      <td>9.455</td>\n",
       "      <td>19.70</td>\n",
       "      <td>17.87</td>\n",
       "      <td>15.66</td>\n",
       "      <td>15.95</td>\n",
       "      <td>16.90</td>\n",
       "      <td>18.64</td>\n",
       "      <td>16.93</td>\n",
       "      <td>17.62</td>\n",
       "      <td>...</td>\n",
       "      <td>17.08</td>\n",
       "      <td>17.25</td>\n",
       "      <td>10.320</td>\n",
       "      <td>13.870</td>\n",
       "      <td>16.63</td>\n",
       "      <td>17.67</td>\n",
       "      <td>16.03</td>\n",
       "      <td>12.85</td>\n",
       "      <td>4005</td>\n",
       "      <td>0</td>\n",
       "    </tr>\n",
       "    <tr>\n",
       "      <th>2</th>\n",
       "      <td>18.12</td>\n",
       "      <td>14.960</td>\n",
       "      <td>20.00</td>\n",
       "      <td>16.03</td>\n",
       "      <td>15.49</td>\n",
       "      <td>16.69</td>\n",
       "      <td>16.85</td>\n",
       "      <td>18.37</td>\n",
       "      <td>16.48</td>\n",
       "      <td>17.65</td>\n",
       "      <td>...</td>\n",
       "      <td>16.38</td>\n",
       "      <td>16.87</td>\n",
       "      <td>0.000</td>\n",
       "      <td>9.447</td>\n",
       "      <td>16.42</td>\n",
       "      <td>17.19</td>\n",
       "      <td>17.82</td>\n",
       "      <td>12.13</td>\n",
       "      <td>1474</td>\n",
       "      <td>0</td>\n",
       "    </tr>\n",
       "    <tr>\n",
       "      <th>3</th>\n",
       "      <td>18.12</td>\n",
       "      <td>10.070</td>\n",
       "      <td>18.93</td>\n",
       "      <td>16.62</td>\n",
       "      <td>15.23</td>\n",
       "      <td>15.55</td>\n",
       "      <td>17.12</td>\n",
       "      <td>18.31</td>\n",
       "      <td>16.40</td>\n",
       "      <td>18.26</td>\n",
       "      <td>...</td>\n",
       "      <td>16.40</td>\n",
       "      <td>17.21</td>\n",
       "      <td>9.266</td>\n",
       "      <td>8.263</td>\n",
       "      <td>16.45</td>\n",
       "      <td>16.39</td>\n",
       "      <td>18.03</td>\n",
       "      <td>11.74</td>\n",
       "      <td>1448</td>\n",
       "      <td>0</td>\n",
       "    </tr>\n",
       "    <tr>\n",
       "      <th>4</th>\n",
       "      <td>17.97</td>\n",
       "      <td>12.040</td>\n",
       "      <td>19.04</td>\n",
       "      <td>16.30</td>\n",
       "      <td>14.94</td>\n",
       "      <td>15.50</td>\n",
       "      <td>17.43</td>\n",
       "      <td>18.57</td>\n",
       "      <td>16.49</td>\n",
       "      <td>17.68</td>\n",
       "      <td>...</td>\n",
       "      <td>16.59</td>\n",
       "      <td>17.60</td>\n",
       "      <td>10.170</td>\n",
       "      <td>8.322</td>\n",
       "      <td>16.16</td>\n",
       "      <td>16.21</td>\n",
       "      <td>16.95</td>\n",
       "      <td>12.94</td>\n",
       "      <td>348</td>\n",
       "      <td>0</td>\n",
       "    </tr>\n",
       "  </tbody>\n",
       "</table>\n",
       "<p>5 rows × 98 columns</p>\n",
       "</div>"
      ],
      "text/plain": [
       "   expressionTSPAN6  expressionTNMD  expressionDPM1  expressionSCYL3  \\\n",
       "0             15.64           8.795           19.08            15.82   \n",
       "1             15.67           9.455           19.70            17.87   \n",
       "2             18.12          14.960           20.00            16.03   \n",
       "3             18.12          10.070           18.93            16.62   \n",
       "4             17.97          12.040           19.04            16.30   \n",
       "\n",
       "   expressionC1orf112  expressionFGR  expressionCFH  expressionFUCA2  \\\n",
       "0               14.50          14.65          15.29            17.68   \n",
       "1               15.66          15.95          16.90            18.64   \n",
       "2               15.49          16.69          16.85            18.37   \n",
       "3               15.23          15.55          17.12            18.31   \n",
       "4               14.94          15.50          17.43            18.57   \n",
       "\n",
       "   expressionGCLC  expressionNFYA  ...    expressionMSL3  expressionCREBBP  \\\n",
       "0           16.27           18.46  ...             15.86             17.97   \n",
       "1           16.93           17.62  ...             17.08             17.25   \n",
       "2           16.48           17.65  ...             16.38             16.87   \n",
       "3           16.40           18.26  ...             16.40             17.21   \n",
       "4           16.49           17.68  ...             16.59             17.60   \n",
       "\n",
       "   expressionMPO  expressionPON1  expressionGCFC2  expressionWDR54  \\\n",
       "0          6.675           6.988            16.19            15.96   \n",
       "1         10.320          13.870            16.63            17.67   \n",
       "2          0.000           9.447            16.42            17.19   \n",
       "3          9.266           8.263            16.45            16.39   \n",
       "4         10.170           8.322            16.16            16.21   \n",
       "\n",
       "   expressionCROT  expressionABCB4  survival  event  \n",
       "0           15.81            11.72      4047      0  \n",
       "1           16.03            12.85      4005      0  \n",
       "2           17.82            12.13      1474      0  \n",
       "3           18.03            11.74      1448      0  \n",
       "4           16.95            12.94       348      0  \n",
       "\n",
       "[5 rows x 98 columns]"
      ]
     },
     "execution_count": 13,
     "metadata": {},
     "output_type": "execute_result"
    }
   ],
   "source": [
    "df.head()"
   ]
  },
  {
   "cell_type": "markdown",
   "metadata": {},
   "source": [
    "   ## Export the data so we can use them with R"
   ]
  },
  {
   "cell_type": "code",
   "execution_count": null,
   "metadata": {},
   "outputs": [],
   "source": []
  },
  {
   "cell_type": "code",
   "execution_count": 14,
   "metadata": {},
   "outputs": [],
   "source": [
    "df.to_csv(\"data_base_partial\")"
   ]
  },
  {
   "cell_type": "markdown",
   "metadata": {},
   "source": [
    "# Analyse the data (using Lifelines)"
   ]
  },
  {
   "cell_type": "code",
   "execution_count": 15,
   "metadata": {},
   "outputs": [],
   "source": [
    "#kmf = KaplanMeierFitter()\n",
    "#kmf.fit(df[\"survival\"], df[\"event\"]) #TODO : tell lifelines if the patient is censored or dead \n",
    "#kmf.plot()"
   ]
  },
  {
   "cell_type": "code",
   "execution_count": 16,
   "metadata": {},
   "outputs": [],
   "source": [
    "#cph = CoxPHFitter()\n",
    "#cph.fit(df, duration_col='survival', event_col='event')\n",
    "\n",
    "\n",
    "#cph.print_summary() "
   ]
  },
  {
   "cell_type": "code",
   "execution_count": 17,
   "metadata": {},
   "outputs": [],
   "source": [
    "#cph.plot()"
   ]
  },
  {
   "cell_type": "code",
   "execution_count": 18,
   "metadata": {},
   "outputs": [],
   "source": [
    "#cph.plot_covariate_groups('expressionNCKAP1', [0, 5, 10, 15])"
   ]
  },
  {
   "cell_type": "markdown",
   "metadata": {},
   "source": [
    "## The concordance and log-likelihood indicate that the model do not fit very well : let's check the assumptions for cox regression"
   ]
  },
  {
   "cell_type": "code",
   "execution_count": 19,
   "metadata": {},
   "outputs": [],
   "source": [
    "#cph.check_assumptions(df)"
   ]
  },
  {
   "cell_type": "code",
   "execution_count": 20,
   "metadata": {},
   "outputs": [],
   "source": [
    "# doesn't work so go to R"
   ]
  },
  {
   "cell_type": "markdown",
   "metadata": {},
   "source": [
    "## TODO : do we have to remove tumors that are not Primary tumors from the list ? make the same transformation than Marc Lavielle, check assumption for Cox Regression, use other form of gene expression (RNAseq) to compare, use other datasets"
   ]
  },
  {
   "cell_type": "markdown",
   "metadata": {},
   "source": [
    "Liens : \n",
    "\n",
    "objectifs en cours : https://docs.google.com/document/d/1A5wxgQ_ZPry4aRH1BsmdbmPJfJoIsy5sa-4P5RmWaTs/edit\n",
    "\n",
    "\n",
    "dossier partagé : https://drive.google.com/drive/u/0/folders/1HotcSiF2BzDuzXMhKNX1p-7lI1U_3UQ9\n",
    "\n",
    "rapport : https://www.overleaf.com/project/5c34f6b7f99dfe3f36bf3a55\n"
   ]
  },
  {
   "cell_type": "markdown",
   "metadata": {},
   "source": [
    "### Generate data for report (formatting and renaming)"
   ]
  },
  {
   "cell_type": "code",
   "execution_count": 21,
   "metadata": {},
   "outputs": [],
   "source": [
    "#df2 = pd.read_csv(\"data_for_report_arp23\")"
   ]
  },
  {
   "cell_type": "code",
   "execution_count": 22,
   "metadata": {},
   "outputs": [],
   "source": [
    "#df2"
   ]
  },
  {
   "cell_type": "code",
   "execution_count": 23,
   "metadata": {},
   "outputs": [],
   "source": [
    "#df2 = df2[[\"Unnamed: 0\", \"coef\", \"Pr(>|z|)\"]]"
   ]
  },
  {
   "cell_type": "code",
   "execution_count": 24,
   "metadata": {},
   "outputs": [],
   "source": [
    "#df2 = df2.rename(columns={\"Unnamed: 0\": \"gene\", \"coef\": \"coefficient\", \"Pr(>|z|)\" : \"p-value\"})"
   ]
  },
  {
   "cell_type": "code",
   "execution_count": 25,
   "metadata": {},
   "outputs": [],
   "source": [
    "#df2[\"gene\"] = df2[\"gene\"].apply(lambda x: x[10:])"
   ]
  },
  {
   "cell_type": "code",
   "execution_count": 26,
   "metadata": {},
   "outputs": [],
   "source": [
    "#df2"
   ]
  },
  {
   "cell_type": "code",
   "execution_count": null,
   "metadata": {},
   "outputs": [],
   "source": []
  }
 ],
 "metadata": {
  "kernelspec": {
   "display_name": "Python 3",
   "language": "python",
   "name": "python3"
  },
  "language_info": {
   "codemirror_mode": {
    "name": "ipython",
    "version": 3
   },
   "file_extension": ".py",
   "mimetype": "text/x-python",
   "name": "python",
   "nbconvert_exporter": "python",
   "pygments_lexer": "ipython3",
   "version": "3.7.1"
  }
 },
 "nbformat": 4,
 "nbformat_minor": 2
}
